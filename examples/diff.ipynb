{
 "cells": [
  {
   "cell_type": "code",
   "execution_count": 10,
   "id": "13fbb19b-98e1-44ff-b9a9-03ba1e02341a",
   "metadata": {},
   "outputs": [],
   "source": [
    "import sys\n",
    "sys.path.insert(0, '../gambit')\n",
    "\n",
    "import os\n",
    "import numpy as np\n",
    "from scipy import stats\n",
    "from scipy import ndimage\n",
    "\n",
    "from gambit import create_diff_image, clean_data\n",
    "from mask import create_segmentation_masks\n",
    "from fits import read_fits, view_fits, write_fits"
   ]
  },
  {
   "cell_type": "code",
   "execution_count": 11,
   "id": "341298d8-402b-4afb-8b17-4807b5d421ee",
   "metadata": {},
   "outputs": [],
   "source": [
    "bands_in_order = ['g','r','i','z','y']"
   ]
  },
  {
   "cell_type": "code",
   "execution_count": 12,
   "id": "f90c6425-2cae-4e72-ace0-c3a2a5abddd8",
   "metadata": {},
   "outputs": [],
   "source": [
    "path_to_input = \"/Users/cora-at-work/Desktop/github/spin-parity-catalog/original/galaxies/\"\n",
    "table_key = \"table4\"\n",
    "\n",
    "def get_galaxy_list():\n",
    "    return os.listdir(os.path.join(path_to_input,table_key))\n",
    "\n",
    "def fits_path(name,band):\n",
    "    return os.path.join(path_to_input,table_key,name,\"{}_{}.fits\".format(name,band))"
   ]
  },
  {
   "cell_type": "code",
   "execution_count": null,
   "id": "84b33bc2-8954-4153-ba06-abc52a3e6c18",
   "metadata": {},
   "outputs": [],
   "source": []
  },
  {
   "cell_type": "code",
   "execution_count": 13,
   "id": "09bfcb02-ddd8-45e5-96d9-e29c136d0a14",
   "metadata": {},
   "outputs": [],
   "source": [
    "def construct_diff(name,first_band,base_band):\n",
    "    first_band_path = fits_path(name,first_band)\n",
    "    base_band_path = fits_path(name,base_band)\n",
    "    \n",
    "    if not (os.path.exists(first_band_path) and os.path.exists(base_band_path)): \n",
    "        print(\"path does not exist gaurd\")\n",
    "        return None\n",
    "\n",
    "    first_band_data = clean_data(read_fits(first_band_path)) #added clean to handle infs/ nans\n",
    "    base_band_data = clean_data(read_fits(base_band_path)) #added clean to handle infs/ nans\n",
    "    \n",
    "    if first_band_data.shape != base_band_data.shape: \n",
    "        print(\"shape issue gaurd\")\n",
    "        return None\n",
    "    \n",
    "    (foreground,_) = create_segmentation_masks(base_band_data)\n",
    "    \n",
    "    if np.sum(foreground) <= 0.01*np.sum(np.shape(base_band_data)): \n",
    "        print(\"small forground gaurd\")\n",
    "        return None\n",
    "    \n",
    "    diff = create_diff_image(first_band_data,base_band_data,foreground)\n",
    "\n",
    "    #return diff\n",
    "    view_fits(diff)\n",
    "    view_fits(foreground)"
   ]
  },
  {
   "cell_type": "code",
   "execution_count": null,
   "id": "9d745fd0-1e96-4f1f-865e-e27b36f65d54",
   "metadata": {},
   "outputs": [],
   "source": [
    "def construct_diff_percentile(name,first_band,base_band):\n",
    "    first_band_path = fits_path(name,first_band)\n",
    "    base_band_path = fits_path(name,base_band)\n",
    "    \n",
    "    if not (os.path.exists(first_band_path) and os.path.exists(base_band_path)): \n",
    "        print(\"path does not exist gaurd\")\n",
    "        return None\n",
    "\n",
    "    first_band_data = clean_data(read_fits(first_band_path)) #added clean to handle infs/ nans\n",
    "    base_band_data = clean_data(read_fits(base_band_path)) #added clean to handle infs/ nans\n",
    "    \n",
    "    if first_band_data.shape != base_band_data.shape: \n",
    "        print(\"shape issue gaurd\")\n",
    "        return None\n",
    "    \n",
    "    (foreground,_) = create_segmentation_masks(base_band_data)\n",
    "    \n",
    "    if np.sum(foreground) <= 0.01*np.sum(np.shape(base_band_data)): \n",
    "        print(\"small forground gaurd\")\n",
    "        return None\n",
    "    \n",
    "        \n",
    "    first_per = np.zeros(first_band_data.shape)\n",
    "    first_per[foreground] = stats.rankdata(first_band_data[foreground], \"average\") / len(first_band_data[foreground])\n",
    "    \n",
    "    view_fits(first_per)\n",
    "    \n",
    "    base_per = np.zeros(first_band_data.shape)\n",
    "    base_per[foreground] = stats.rankdata(base_band_data[foreground], \"average\") / len(base_band_data[foreground])\n",
    "    \n",
    "    view_fits(base_per)\n",
    "    \n",
    "    #view_fits(first_per-base_per,std_range=2) #cool graph\n",
    "    #diff = create_diff_image(first_per,base_per,foreground)\n",
    "    #view_fits(diff)\n",
    "    \n",
    "    per_d = first_per-base_per\n",
    "    #write_fits(\"/Users/cora-at-work/Desktop/test_r.fits\",first_per)\n",
    "    #write_fits(\"/Users/cora-at-work/Desktop/test_y.fits\",base_per)\n",
    "    #view_fits(per_d,mask=foreground,std_range=3)\n",
    "    #to_view = np.zeros(per_d.shape)\n",
    "    #to_view[np.abs(per_d) <= 0.001] = 1\n",
    "    #print(to_view)\n",
    "    #view_fits(to_view)\n",
    "    \n",
    "    \n",
    "    \n",
    "    #view_fits(diff)\n",
    "    #view_fits(sobel(diff),std_range=1)\n",
    "    #print(np.sum(sobel(diff)))\n",
    "    #to_view = np.zeros(diff.shape)\n",
    "    #to_view[foreground] = stats.rankdata(diff[foreground], \"average\") / len(diff[foreground])\n",
    "    #view_fits(to_view)\n",
    "    #return diff\n",
    "    return per_d"
   ]
  },
  {
   "cell_type": "code",
   "execution_count": 15,
   "id": "7a81f010-dbe1-4055-a934-ba842d3ef526",
   "metadata": {},
   "outputs": [
    {
     "name": "stdout",
     "output_type": "stream",
     "text": [
      "NGC4800\n"
     ]
    },
    {
     "data": {
      "image/png": "[encoded data removed]",
      "text/plain": [
       "<Figure size 432x288 with 1 Axes>"
      ]
     },
     "metadata": {
      "needs_background": "light"
     },
     "output_type": "display_data"
    },
    {
     "data": {
      "image/png": "[encoded data removed]",
      "text/plain": [
       "<Figure size 432x288 with 1 Axes>"
      ]
     },
     "metadata": {
      "needs_background": "light"
     },
     "output_type": "display_data"
    }
   ],
   "source": [
    "for name in get_galaxy_list():\n",
    "    print(name)\n",
    "    diff = sep_diff(name,'r','y')\n",
    "    #path_d = \"/Users/cora-at-work/Desktop/test_{}.fits\".format(name)\n",
    "    #write_fits(path_d,diff)\n",
    "    break"
   ]
  },
  {
   "cell_type": "code",
   "execution_count": 8,
   "id": "5019b0c0-ff57-4cb7-b7d4-499da64fecda",
   "metadata": {},
   "outputs": [],
   "source": [
    "#TODO:\n",
    "# 1 - select two bands (first_band & base_band s.t. first_band comes before base_band in bands_in_order_list)\n",
    "# 2 - pick a galaxy from table 2, read in fits file for first_band and base_band\n",
    "# 3 - generate (foreground,background) using create_segmentation_mask\n",
    "# 4 - use fits from #2 and foreground mask from #3 to create diff using create_diff_image\n",
    "# 5 - Visualize using view_fits (experiment with mask:np.array and std_range:float)"
   ]
  },
  {
   "cell_type": "code",
   "execution_count": 9,
   "id": "c47bf046-e552-49e3-8451-234a8a8c40a7",
   "metadata": {},
   "outputs": [],
   "source": [
    "#For example: For IC1683 table 2 (g,r) bands diff would look like:"
   ]
  },
  {
   "cell_type": "code",
   "execution_count": null,
   "id": "6db44938-b0f3-4057-8f6b-4215fb93b668",
   "metadata": {},
   "outputs": [],
   "source": []
  }
 ],
 "metadata": {
  "kernelspec": {
   "display_name": "Python 3",
   "language": "python",
   "name": "python3"
  },
  "language_info": {
   "codemirror_mode": {
    "name": "ipython",
    "version": 3
   },
   "file_extension": ".py",
   "mimetype": "text/x-python",
   "name": "python",
   "nbconvert_exporter": "python",
   "pygments_lexer": "ipython3",
   "version": "3.8.8"
  }
 },
 "nbformat": 4,
 "nbformat_minor": 5
}
