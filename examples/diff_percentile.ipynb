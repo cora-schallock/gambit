{
 "cells": [
  {
   "cell_type": "code",
   "execution_count": 1,
   "id": "f265d7e6-8bd3-49ef-8038-706c64f6746b",
   "metadata": {},
   "outputs": [],
   "source": [
    "import sys\n",
    "sys.path.insert(0, '../gambit')\n",
    "\n",
    "import os\n",
    "import numpy as np\n",
    "import itertools\n",
    "\n",
    "from gambit import create_diff_per_image, clean_data\n",
    "from mask import create_segmentation_masks\n",
    "from fits import read_fits, view_fits, write_fits"
   ]
  },
  {
   "cell_type": "code",
   "execution_count": 2,
   "id": "8256a3d8-7ca9-4f12-81b0-32da47e7e190",
   "metadata": {},
   "outputs": [],
   "source": [
    "bands_in_order = ['g','r','i','z','y']"
   ]
  },
  {
   "cell_type": "code",
   "execution_count": 3,
   "id": "1e5c7f63-bb07-4e5c-8432-6182e1233a3d",
   "metadata": {},
   "outputs": [],
   "source": [
    "path_to_input = \"/Users/cora-at-work/Desktop/github/spin-parity-catalog/original/galaxies/\"\n",
    "table_key = \"table5\"\n",
    "\n",
    "def get_galaxy_list():\n",
    "    return os.listdir(os.path.join(path_to_input,table_key))\n",
    "\n",
    "def fits_path(name,band):\n",
    "    return os.path.join(path_to_input,table_key,name,\"{}_{}.fits\".format(name,band))"
   ]
  },
  {
   "cell_type": "code",
   "execution_count": 4,
   "id": "d2ba91b0-c6a2-40f7-a7fb-a0f55516ef8b",
   "metadata": {},
   "outputs": [],
   "source": [
    "def construct_diff_percentile(name,first_band,base_band):\n",
    "    first_band_path = fits_path(name,first_band)\n",
    "    base_band_path = fits_path(name,base_band)\n",
    "    \n",
    "    if not (os.path.exists(first_band_path) and os.path.exists(base_band_path)): \n",
    "        print(\"path does not exist guard\")\n",
    "        return (None,None)\n",
    "\n",
    "    first_band_data = clean_data(read_fits(first_band_path)) #added clean to handle infs/ nans\n",
    "    base_band_data = clean_data(read_fits(base_band_path)) #added clean to handle infs/ nans\n",
    "    \n",
    "    if first_band_data.shape != base_band_data.shape: \n",
    "        print(\"shape issue guard\")\n",
    "        return (None,None)\n",
    "    \n",
    "    (foreground,_) = create_segmentation_masks(base_band_data)\n",
    "    \n",
    "    if np.sum(foreground) <= 0.01*np.sum(np.shape(base_band_data)): \n",
    "        print(\"small forground guard\")\n",
    "        return (None,None)\n",
    "\n",
    "    diff = create_diff_per_image(first_band_data,base_band_data,foreground)\n",
    "    return (diff,foreground)"
   ]
  },
  {
   "cell_type": "code",
   "execution_count": 5,
   "id": "8332ce71-a002-4f80-bbed-c14f4b49e91c",
   "metadata": {},
   "outputs": [],
   "source": [
    "foreground_output_path = \"/Users/cora-at-work/Desktop/research/winter_2023/foreground\"\n",
    "diff_per_output_path = \"/Users/cora-at-work/Desktop/research/winter_2023/per_diff\"\n",
    "\n",
    "def get_output_path(name,first,base):\n",
    "    return os.path.join(diff_per_output_path,table_key,\"{}_diff_per_{}-{}.fits\".format(name,first,base))\n",
    "\n",
    "def get_foreground_path(name,base):\n",
    "    return os.path.join(foreground_output_path,table_key,\"{}_foreground_{}.fits\".format(name,base))"
   ]
  },
  {
   "cell_type": "code",
   "execution_count": 6,
   "id": "d61974e3-30f7-45e4-9877-90e7f4f79926",
   "metadata": {},
   "outputs": [
    {
     "name": "stdout",
     "output_type": "stream",
     "text": [
      "1 NGC3079\n",
      "2 NGC3626\n",
      "3 UGC8267\n",
      "4 UGC8778\n",
      "5 NGC3169\n",
      "6 NGC4772\n",
      "7 MCG-02-03-015\n",
      "8 IC944\n",
      "9 IC540\n",
      "10 UGC6036\n",
      "11 MCG-02-02-040\n",
      "12 NGC6314\n",
      "13 NGC681\n",
      "14 IC2247\n",
      "15 UGC10205\n",
      "16 NGC4605\n",
      "17 NGC1542\n",
      "18 UGC5111\n",
      "19 UGC5498\n",
      "small forground guard\n",
      "small forground guard\n",
      "small forground guard\n",
      "small forground guard\n",
      "small forground guard\n",
      "small forground guard\n",
      "small forground guard\n",
      "20 NGC4517\n",
      "21 UGC9665\n",
      "22 UGC3107\n",
      "23 NGC3067\n",
      "24 NGC3495\n",
      "25 UGC10297\n"
     ]
    }
   ],
   "source": [
    "i = 1\n",
    "for name in get_galaxy_list():\n",
    "    print(i,name)\n",
    "    foreground_dict = {}\n",
    "    for (first_band,base_band) in itertools.combinations(bands_in_order, 2):\n",
    "        (diff,foreground) = construct_diff_percentile(name,first_band,base_band)\n",
    "    \n",
    "        if not isinstance(diff,np.ndarray):\n",
    "            continue\n",
    "        \n",
    "        #write_path = get_output_path(name,first_band,base_band) #write each diff_per that exists\n",
    "        #write_fits(write_path,diff_per)\n",
    "        if base_band in foreground_dict or not isinstance(foreground,np.ndarray):\n",
    "            continue\n",
    "        foreground_dict[base_band] = foreground\n",
    "            \n",
    "    for base in foreground_dict: #write only one foreground mask per each choice of base\n",
    "        foreground_path = get_foreground_path(name,base)\n",
    "        write_fits(foreground_path,foreground_dict[base].astype('int')) #cast to int to save with write_fits\n",
    "    i += 1\n",
    "    #break"
   ]
  },
  {
   "cell_type": "code",
   "execution_count": null,
   "id": "e3af5804-c000-482a-b794-ed4f4c43467b",
   "metadata": {},
   "outputs": [],
   "source": []
  },
  {
   "cell_type": "code",
   "execution_count": null,
   "id": "f1276bc5-6eca-4492-ab2f-78e2f581c0af",
   "metadata": {},
   "outputs": [],
   "source": []
  }
 ],
 "metadata": {
  "kernelspec": {
   "display_name": "Python 3",
   "language": "python",
   "name": "python3"
  },
  "language_info": {
   "codemirror_mode": {
    "name": "ipython",
    "version": 3
   },
   "file_extension": ".py",
   "mimetype": "text/x-python",
   "name": "python",
   "nbconvert_exporter": "python",
   "pygments_lexer": "ipython3",
   "version": "3.8.8"
  }
 },
 "nbformat": 4,
 "nbformat_minor": 5
}
